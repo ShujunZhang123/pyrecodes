{
 "cells": [
  {
   "cell_type": "code",
   "execution_count": 6,
   "id": "35fbcd4a",
   "metadata": {},
   "outputs": [],
   "source": [
    "# Define Hurricane damage file\n",
    "\n",
    "hurricane_name = 'All' # match the names in summary_cbsa_damage_all_2014-2024.csv\n",
    "hurricane_aggregated_damage_file = f'./climada_pyrecodes_examples/climada_inputs/summary_cbsa_damage_all_2014-2024.csv'"
   ]
  },
  {
   "cell_type": "code",
   "execution_count": 7,
   "id": "f04e2269",
   "metadata": {},
   "outputs": [],
   "source": [
    "# Get the damage results for the hurricane\n",
    "import csv\n",
    "\n",
    "with open(hurricane_aggregated_damage_file, mode='r', newline='', encoding='utf-8') as csvfile:\n",
    "    reader = csv.DictReader(csvfile)\n",
    "    all_hurricane_damage = [row for row in reader]\n",
    "\n",
    "# hurricane_damage = [row for row in all_hurricane_damage if hurricane_name in row['event']]\n",
    "hurricane_damage = all_hurricane_damage\n"
   ]
  },
  {
   "cell_type": "code",
   "execution_count": 8,
   "id": "9c3382df",
   "metadata": {},
   "outputs": [],
   "source": [
    "# Get the permit data for the affected CBSAs per unit - TODO: Replace with actual data retrieval logic\n",
    "import random\n",
    "\n",
    "cbsa_names = [row['cbsa_name'] for row in hurricane_damage]\n",
    "cbsa_permit_data = {}\n",
    "unit_columns = ['1 Unit', '2 Units', '3 and 4 Units', '5 Units or More']\n",
    "for cbsa_name in cbsa_names:\n",
    "    cbsa_permit_data[cbsa_name] = {unit: random.randint(10, 100) for unit in unit_columns}"
   ]
  },
  {
   "cell_type": "code",
   "execution_count": 11,
   "id": "9b3f8e73",
   "metadata": {},
   "outputs": [
    {
     "name": "stdout",
     "output_type": "stream",
     "text": [
      "{'Deltona-Daytona Beach-Ormond Beach, FL': 13, 'Orlando-Kissimmee-Sanford, FL': 52, 'Palm Bay-Melbourne-Titusville, FL': 26, 'Port St. Lucie, FL': 5, 'Sebastian-Vero Beach-West Vero Corridor, FL': 3, 'Atlantic City-Hammonton, NJ': 1, 'Cambridge, MD': 0, 'Dover, DE': 0, 'Elizabeth City, NC': 0, 'Greenville, NC': 0, 'Jacksonville, NC': 27, 'Kill Devil Hills, NC': 0, 'Morehead City, NC': 38, 'Murrells Inlet, SC': 0, 'Myrtle Beach-Conway-North Myrtle Beach, SC': 5, 'New Bern, NC': 11, 'New York-Newark-Jersey City, NY-NJ': 0, 'Ocean Pines, MD': 1, 'Philadelphia-Camden-Wilmington, PA-NJ-DE-MD': 0, 'Salisbury, MD': 1, 'Seaford, DE': 3, 'Vineland, NJ': 0, 'Virginia Beach-Chesapeake-Norfolk, VA-NC': 0, 'Washington, NC': 1, 'Wilmington, NC': 111, 'Non-CBSA 37': 23, 'Non-CBSA 51': 1, 'Brunswick-St. Simons, GA': 1, 'Douglas, GA': 6, 'Gainesville, FL': 1, 'Hilton Head Island-Bluffton-Port Royal, SC': 1, 'Hinesville, GA': 0, 'Jesup, GA': 1, 'Lake City, FL': 0, 'Savannah, GA': 1, 'Tallahassee, FL': 55, 'Valdosta, GA': 13, 'Waycross, GA': 1, 'Non-CBSA 12': 2, 'Non-CBSA 13': 23, 'Alexandria, LA': 8, 'Baton Rouge, LA': 1, 'Houma-Bayou Cane-Thibodaux, LA': 38, 'Lafayette, LA': 37, 'Lake Charles, LA': 6, 'Morgan City, LA': 0, 'Natchez, MS-LA': 0, 'New Iberia, LA': 1, 'New Orleans-Metairie, LA': 1, 'Opelousas, LA': 10, 'Slidell-Mandeville-Covington, LA': 10, 'Non-CBSA 22': 1, 'Alice, TX': 1, 'Bay City, TX': 1, 'Beeville, TX': 3, 'Corpus Christi, TX': 1, 'Kingsville, TX': 1, 'Port Lavaca, TX': 8, 'Victoria, TX': 8, 'Non-CBSA 48': 0, 'Houston-Pasadena-The Woodlands, TX': 14, 'Cape Coral-Fort Myers, FL': 83, 'Key West-Key Largo, FL': 3, 'Miami-Fort Lauderdale-West Palm Beach, FL': 1, 'Naples-Marco Island, FL': 1, 'North Port-Bradenton-Sarasota, FL': 0, 'Punta Gorda, FL': 93, 'Tampa-St. Petersburg-Clearwater, FL': 0, 'Crestview-Fort Walton Beach-Destin, FL': 8, 'Daphne-Fairhope-Foley, AL': 1, 'Gulfport-Biloxi, MS': 0, 'Mobile, AL': 1, 'Pensacola-Ferry Pass-Brent, FL': 0, 'Non-CBSA 01': 0, 'Arcadia, FL': 14, 'Clewiston, FL': 9, 'Homosassa Springs, FL': 0, 'Jacksonville, FL': 0, 'Lakeland-Winter Haven, FL': 182, 'Ocala, FL': 1, 'Palatka, FL': 1, 'Sebring, FL': 20, 'Wildwood-The Villages, FL': 1, 'Beaumont-Port Arthur, TX': 0, 'DeRidder, LA': 33, 'Lufkin, TX': 0, 'Monroe, LA': 1, 'Natchitoches, LA': 3, 'Albany, GA': 3, 'Augusta-Richmond County, GA-SC': 1, 'Bainbridge, GA': 13, 'Cordele, GA': 1, 'Dublin, GA': 0, 'Fitzgerald, GA': 1, 'Kingsland, GA': 0, 'Milledgeville, GA': 0, 'Moultrie, GA': 0, 'Panama City-Panama City Beach, FL': 122, 'Thomasville, GA': 3, 'Tifton, GA': 0, 'Vidalia, GA': 1, 'Non-CBSA 45': 1, 'Anderson Creek, NC': 0, 'Charleston-North Charleston, SC': 4, 'Columbia, SC': 0, 'Florence, SC': 1, 'Laurinburg, NC': 1, 'Lumberton, NC': 2, 'Okeechobee, FL': 9, 'Orangeburg, SC': 1, 'Sumter, SC': 0, 'Bogalusa, LA': 1, 'Hammond, LA': 3, 'McComb, MS': 1, 'Picayune, MS': 1, 'Goldsboro, NC': 1, 'Anniston-Oxford, AL': 0, 'Birmingham, AL': 1, 'Hattiesburg, MS': 1, 'Selma, AL': 1, 'Talladega-Sylacauga, AL': 1, 'Tuscaloosa, AL': 0, 'Non-CBSA 28': 1, 'Americus, GA': 1, 'Dothan, AL': 5, 'Eufaula, AL-GA': 0, 'Ozark, AL': 0, 'Brownsville-Harlingen, TX': 1, 'McAllen-Edinburg-Mission, TX': 1, 'Raymondville, TX': 1, 'Rio Grande City-Roma, TX': 0, 'Fayetteville, NC': 0, 'Kinston, NC': 1, 'Raleigh-Cary, NC': 1, 'Rocky Mount, NC': 0, 'Wilson, NC': 0}\n"
     ]
    }
   ],
   "source": [
    "# Define pyrecodes light - very simple recovery simulator\n",
    "import csv\n",
    "\n",
    "def get_reconstruction_capacity(building_permits_per_cbsa: dict) -> dict:\n",
    "    reconstruction_capacity = int(building_permits_per_cbsa['1 Unit']) + int(building_permits_per_cbsa['2 Units']) * 2 + int(building_permits_per_cbsa['3 and 4 Units']) * 3 + int(building_permits_per_cbsa['5 Units or More']) * 5\n",
    "    return reconstruction_capacity\n",
    "\n",
    "def get_housing_unit_month_demand(row: dict, repair_time: dict) -> int:\n",
    "    housing_unit_month_demand = 0\n",
    "    for damage_state in repair_time.keys():\n",
    "        housing_unit_month_demand += float(row[damage_state]) * repair_time[damage_state]\n",
    "    return housing_unit_month_demand\n",
    "\n",
    "def get_recovery_time(damage_summary: dict, reconstruction_capacity: dict, repair_time: dict) -> int:\n",
    "    recovery_time = {}\n",
    "    for row in damage_summary:\n",
    "        county_name = row['cbsa_name']\n",
    "        housing_unit_month_demand = get_housing_unit_month_demand(row, repair_time)\n",
    "        county_reconstruction_capacity = reconstruction_capacity.get(county_name, None)\n",
    "        minimal_recovery_time = get_minimal_recovery_time(row, repair_time)\n",
    "        if county_reconstruction_capacity is None:\n",
    "            print(f\"County {county_name} not found in reconstruction capacity data.\")\n",
    "        elif county_reconstruction_capacity == 0:\n",
    "            print(f\"County {county_name} has zero reconstruction capacity.\")\n",
    "        else:\n",
    "            recovery_time[county_name] = max(minimal_recovery_time, int(housing_unit_month_demand / county_reconstruction_capacity))\n",
    "    return recovery_time\n",
    "\n",
    "def get_minimal_recovery_time(row: dict, repair_time: dict) -> int:\n",
    "    \"\"\"\n",
    "    Get minimal recovery time for a county based on the damage states.\n",
    "    If there is a damaged building, return the repair time for that damage state.\n",
    "    \"\"\"\n",
    "    minimal_recovery_time = 0\n",
    "    for damage_state in repair_time.keys():\n",
    "        if float(row[damage_state]) > 0:\n",
    "            minimal_recovery_time = max(repair_time[damage_state], minimal_recovery_time)\n",
    "    return minimal_recovery_time\n",
    "\n",
    "def get_output_dict(damage_summary: dict, reconstruction_capacity: dict, recovery_time: dict, hurricane_name: str) -> list:\n",
    "    output_dict = []\n",
    "    for row in damage_summary:\n",
    "        county_name = row['cbsa_name']\n",
    "        row['reconstruction_capacity'] = reconstruction_capacity.get(county_name, None)\n",
    "        row['recovery_potential'] = recovery_time.get(county_name, None)\n",
    "        output_dict.append({\n",
    "            'event': row['event'],\n",
    "            'cbsa_name': row['cbsa_name'],\n",
    "            'reconstruction_capacity': reconstruction_capacity.get(county_name, None),\n",
    "            'recovery_potential [months]': recovery_time.get(county_name, None)\n",
    "        })\n",
    "    return output_dict\n",
    "\n",
    "reconstruction_capacity = {}\n",
    "for cbsa_name, permit_data in cbsa_permit_data.items():\n",
    "    # print(f\"CBSA: {cbsa_name}, Permits: {permit_data}\")\n",
    "    reconstruction_capacity[cbsa_name] = get_reconstruction_capacity(permit_data)\n",
    "\n",
    "repair_time = {'DS0_units': 0, 'DS1_units': 1, 'DS2_units': 1, 'DS3_units': 3, 'DS4_units': 8} # in months HAZUS except DS4 which is 8 months, not 6 months as in HAZUS\n",
    "\n",
    "recovery_time = get_recovery_time(hurricane_damage, reconstruction_capacity, repair_time)\n",
    "output_dict = get_output_dict(hurricane_damage, reconstruction_capacity, recovery_time, hurricane_name)\n",
    "\n",
    "# Specify the CSV file name\n",
    "filename = f'recovery_potential_{hurricane_name}.csv'\n",
    "\n",
    "# Get the headers from the keys of the first dict\n",
    "fieldnames = output_dict[0].keys()\n",
    "\n",
    "# Write to CSV\n",
    "with open(filename, mode='w', newline='') as file:\n",
    "    writer = csv.DictWriter(file, fieldnames=fieldnames)\n",
    "    writer.writeheader()\n",
    "    writer.writerows(output_dict)\n",
    "\n",
    "print(recovery_time)"
   ]
  },
  {
   "cell_type": "code",
   "execution_count": null,
   "id": "bfe4e17e",
   "metadata": {},
   "outputs": [],
   "source": []
  }
 ],
 "metadata": {
  "kernelspec": {
   "display_name": "env_pyrecodes_development",
   "language": "python",
   "name": "python3"
  },
  "language_info": {
   "codemirror_mode": {
    "name": "ipython",
    "version": 3
   },
   "file_extension": ".py",
   "mimetype": "text/x-python",
   "name": "python",
   "nbconvert_exporter": "python",
   "pygments_lexer": "ipython3",
   "version": "3.9.13"
  }
 },
 "nbformat": 4,
 "nbformat_minor": 5
}
